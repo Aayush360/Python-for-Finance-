{
 "cells": [
  {
   "cell_type": "code",
   "execution_count": null,
   "id": "873f4454",
   "metadata": {},
   "outputs": [],
   "source": [
    "## Lemonade Stand"
   ]
  },
  {
   "cell_type": "markdown",
   "id": "493ec66f",
   "metadata": {},
   "source": [
    "### Net Income\n",
    "\n"
   ]
  },
  {
   "cell_type": "markdown",
   "id": "e0f69358",
   "metadata": {},
   "source": [
    "sales minus all costs"
   ]
  },
  {
   "cell_type": "code",
   "execution_count": 2,
   "id": "eef58cfd",
   "metadata": {},
   "outputs": [],
   "source": [
    "expenses_per_cup = 0.1\n",
    "revenue_per_cup = 0.2\n",
    "sold_cups = 100\n"
   ]
  },
  {
   "cell_type": "code",
   "execution_count": 5,
   "id": "ecd5e3b1",
   "metadata": {},
   "outputs": [
    {
     "name": "stdout",
     "output_type": "stream",
     "text": [
      "The net income is:  10.0\n"
     ]
    }
   ],
   "source": [
    "net_income_per_day = sold_cups*(revenue_per_cup-expenses_per_cup)\n",
    "print('The net income is: ',net_income_per_day)"
   ]
  },
  {
   "cell_type": "code",
   "execution_count": 7,
   "id": "b23d63a0",
   "metadata": {},
   "outputs": [
    {
     "name": "stdout",
     "output_type": "stream",
     "text": [
      "the net income for two months is:  600.0\n"
     ]
    }
   ],
   "source": [
    "# net income for two months of summer vacation\n",
    "\n",
    "net_income = net_income_per_day*30*2\n",
    "print('the net income for two months is: ', net_income)"
   ]
  },
  {
   "cell_type": "markdown",
   "id": "88091673",
   "metadata": {},
   "source": [
    "### Market Price"
   ]
  },
  {
   "cell_type": "markdown",
   "id": "a4c23f30",
   "metadata": {},
   "source": [
    "what people on the market is currently willing to pay \n",
    "\n",
    "this is the stock price"
   ]
  },
  {
   "cell_type": "code",
   "execution_count": 8,
   "id": "3a6f567a",
   "metadata": {},
   "outputs": [],
   "source": [
    "market_price = 300"
   ]
  },
  {
   "cell_type": "markdown",
   "id": "a41e8f87",
   "metadata": {},
   "source": [
    "question: is this a good price?"
   ]
  },
  {
   "cell_type": "markdown",
   "id": "a611fb46",
   "metadata": {},
   "source": [
    "### Book Value"
   ]
  },
  {
   "cell_type": "markdown",
   "id": "1a4eae64",
   "metadata": {},
   "source": [
    "- value of the company if sold today\n",
    "\n",
    "- total_assets-total_liabilities"
   ]
  },
  {
   "cell_type": "code",
   "execution_count": 12,
   "id": "fee58f3f",
   "metadata": {},
   "outputs": [],
   "source": [
    "table_and_chair = 35\n",
    "lemonade = 25\n",
    "number_of_cups=200\n",
    "plastic_cups = 0.05*number_of_cups"
   ]
  },
  {
   "cell_type": "code",
   "execution_count": 10,
   "id": "5675cdee",
   "metadata": {},
   "outputs": [],
   "source": [
    "total_assets= table_and_chair+lemonade+plastic_cups\n",
    "total_liabilities = 0"
   ]
  },
  {
   "cell_type": "code",
   "execution_count": 11,
   "id": "fd2f62e6",
   "metadata": {},
   "outputs": [
    {
     "data": {
      "text/plain": [
       "70.0"
      ]
     },
     "execution_count": 11,
     "metadata": {},
     "output_type": "execute_result"
    }
   ],
   "source": [
    "total_assets"
   ]
  },
  {
   "cell_type": "code",
   "execution_count": 13,
   "id": "795b1701",
   "metadata": {},
   "outputs": [],
   "source": [
    "book_value = total_assets-total_liabilities"
   ]
  },
  {
   "cell_type": "markdown",
   "id": "cdc5ad04",
   "metadata": {},
   "source": [
    "### Intrinsic Value"
   ]
  },
  {
   "cell_type": "markdown",
   "id": "f2c472b9",
   "metadata": {},
   "source": [
    "- Measure of what an assets is worth\n",
    "\n",
    "- By objective calculation and not the current market price"
   ]
  },
  {
   "cell_type": "code",
   "execution_count": 15,
   "id": "18dbc517",
   "metadata": {},
   "outputs": [],
   "source": [
    "# what is the net earnings if the lemonade stand is running 3 summers"
   ]
  },
  {
   "cell_type": "code",
   "execution_count": 16,
   "id": "dfe9efb3",
   "metadata": {},
   "outputs": [
    {
     "data": {
      "text/plain": [
       "1800.0"
      ]
     },
     "execution_count": 16,
     "metadata": {},
     "output_type": "execute_result"
    }
   ],
   "source": [
    "net_income*3"
   ]
  },
  {
   "cell_type": "markdown",
   "id": "cac92099",
   "metadata": {},
   "source": [
    "- Acc to Warren Buffet net_income is the discounted value of the cash that can be taken out of a business during its remaining life"
   ]
  },
  {
   "cell_type": "markdown",
   "id": "94500090",
   "metadata": {},
   "source": [
    "- Intrinsic value is the measure of what an assets is worth\n",
    "- This measure is arrived at by means of an objective calculation or complex financial model, rather than using the currently trading market price of that assets"
   ]
  },
  {
   "cell_type": "markdown",
   "id": "f15f0024",
   "metadata": {},
   "source": [
    "- in this case the current trading price of that assets is 300 dollars"
   ]
  },
  {
   "cell_type": "markdown",
   "id": "7cc02fb1",
   "metadata": {},
   "source": [
    "#### Market Price"
   ]
  },
  {
   "cell_type": "markdown",
   "id": "85119fb5",
   "metadata": {},
   "source": [
    "- The market price changes when we sell company in pieces i.e shares\n"
   ]
  },
  {
   "cell_type": "markdown",
   "id": "c5216f46",
   "metadata": {},
   "source": [
    "following are the values:\n",
    "    \n",
    "book_value = 7 USD cost of chair,table,lemonade stand, mixture and cups \n",
    "\n",
    "market value =  300 USD (price our friend is willing to pay)\n",
    "\n",
    "net income per season =  600 USD\n",
    "\n",
    "intrinsic value =  1800 USD"
   ]
  },
  {
   "cell_type": "code",
   "execution_count": 46,
   "id": "e34a3403",
   "metadata": {},
   "outputs": [],
   "source": [
    "shares_outstanding = 1000\n",
    "share_price = 1\n",
    "# later every one eanted to sell their share thus the new share price is\n",
    "\n",
    "# share_price = 0.7"
   ]
  },
  {
   "cell_type": "code",
   "execution_count": 43,
   "id": "729075e0",
   "metadata": {},
   "outputs": [],
   "source": [
    "market_cap = shares_outstanding*share_price"
   ]
  },
  {
   "cell_type": "code",
   "execution_count": 44,
   "id": "d39c408a",
   "metadata": {},
   "outputs": [
    {
     "name": "stdout",
     "output_type": "stream",
     "text": [
      "the market capitalization price is: 700.0\n"
     ]
    }
   ],
   "source": [
    "print('the market capitalization price is:',market_cap)"
   ]
  },
  {
   "cell_type": "code",
   "execution_count": 7,
   "id": "81e4763b",
   "metadata": {},
   "outputs": [],
   "source": [
    "import pandas as pd"
   ]
  },
  {
   "cell_type": "code",
   "execution_count": 8,
   "id": "a9d2bec8",
   "metadata": {},
   "outputs": [
    {
     "data": {
      "text/html": [
       "<div>\n",
       "<style scoped>\n",
       "    .dataframe tbody tr th:only-of-type {\n",
       "        vertical-align: middle;\n",
       "    }\n",
       "\n",
       "    .dataframe tbody tr th {\n",
       "        vertical-align: top;\n",
       "    }\n",
       "\n",
       "    .dataframe thead th {\n",
       "        text-align: right;\n",
       "    }\n",
       "</style>\n",
       "<table border=\"1\" class=\"dataframe\">\n",
       "  <thead>\n",
       "    <tr style=\"text-align: right;\">\n",
       "      <th></th>\n",
       "      <th>Date</th>\n",
       "      <th>High</th>\n",
       "      <th>Low</th>\n",
       "      <th>Open</th>\n",
       "      <th>Close</th>\n",
       "      <th>Volume</th>\n",
       "      <th>Adj Close</th>\n",
       "    </tr>\n",
       "  </thead>\n",
       "  <tbody>\n",
       "    <tr>\n",
       "      <th>0</th>\n",
       "      <td>2020-01-02</td>\n",
       "      <td>86.139999</td>\n",
       "      <td>84.342003</td>\n",
       "      <td>84.900002</td>\n",
       "      <td>86.052002</td>\n",
       "      <td>47660500.0</td>\n",
       "      <td>86.052002</td>\n",
       "    </tr>\n",
       "    <tr>\n",
       "      <th>1</th>\n",
       "      <td>2020-01-03</td>\n",
       "      <td>90.800003</td>\n",
       "      <td>87.384003</td>\n",
       "      <td>88.099998</td>\n",
       "      <td>88.601997</td>\n",
       "      <td>88892500.0</td>\n",
       "      <td>88.601997</td>\n",
       "    </tr>\n",
       "    <tr>\n",
       "      <th>2</th>\n",
       "      <td>2020-01-06</td>\n",
       "      <td>90.311996</td>\n",
       "      <td>88.000000</td>\n",
       "      <td>88.094002</td>\n",
       "      <td>90.307999</td>\n",
       "      <td>50665000.0</td>\n",
       "      <td>90.307999</td>\n",
       "    </tr>\n",
       "    <tr>\n",
       "      <th>3</th>\n",
       "      <td>2020-01-07</td>\n",
       "      <td>94.325996</td>\n",
       "      <td>90.671997</td>\n",
       "      <td>92.279999</td>\n",
       "      <td>93.811996</td>\n",
       "      <td>89410500.0</td>\n",
       "      <td>93.811996</td>\n",
       "    </tr>\n",
       "    <tr>\n",
       "      <th>4</th>\n",
       "      <td>2020-01-08</td>\n",
       "      <td>99.697998</td>\n",
       "      <td>93.646004</td>\n",
       "      <td>94.739998</td>\n",
       "      <td>98.428001</td>\n",
       "      <td>155721500.0</td>\n",
       "      <td>98.428001</td>\n",
       "    </tr>\n",
       "  </tbody>\n",
       "</table>\n",
       "</div>"
      ],
      "text/plain": [
       "         Date       High        Low       Open      Close       Volume  \\\n",
       "0  2020-01-02  86.139999  84.342003  84.900002  86.052002   47660500.0   \n",
       "1  2020-01-03  90.800003  87.384003  88.099998  88.601997   88892500.0   \n",
       "2  2020-01-06  90.311996  88.000000  88.094002  90.307999   50665000.0   \n",
       "3  2020-01-07  94.325996  90.671997  92.279999  93.811996   89410500.0   \n",
       "4  2020-01-08  99.697998  93.646004  94.739998  98.428001  155721500.0   \n",
       "\n",
       "   Adj Close  \n",
       "0  86.052002  \n",
       "1  88.601997  \n",
       "2  90.307999  \n",
       "3  93.811996  \n",
       "4  98.428001  "
      ]
     },
     "execution_count": 8,
     "metadata": {},
     "output_type": "execute_result"
    }
   ],
   "source": [
    "data = pd.read_csv('stock_data.csv')\n",
    "data.head()"
   ]
  },
  {
   "cell_type": "code",
   "execution_count": 11,
   "id": "54dfbe3e",
   "metadata": {},
   "outputs": [
    {
     "data": {
      "text/plain": [
       "<AxesSubplot:>"
      ]
     },
     "execution_count": 11,
     "metadata": {},
     "output_type": "execute_result"
    },
    {
     "data": {
      "image/png": "[encoded data removed]",
      "text/plain": [
       "<Figure size 432x288 with 1 Axes>"
      ]
     },
     "metadata": {
      "needs_background": "light"
     },
     "output_type": "display_data"
    }
   ],
   "source": [
    "data['Close'].plot()\n"
   ]
  },
  {
   "cell_type": "markdown",
   "id": "19d57d96",
   "metadata": {},
   "source": [
    "#### Earnings Per Share"
   ]
  },
  {
   "cell_type": "code",
   "execution_count": 45,
   "id": "daa46307",
   "metadata": {},
   "outputs": [],
   "source": [
    "# earning = 300 # half of the net incomes i.e earnings in second half of the summer\n",
    "earning = 600\n",
    "shares_outstanding = 1000"
   ]
  },
  {
   "cell_type": "code",
   "execution_count": 27,
   "id": "4db5cbf7",
   "metadata": {},
   "outputs": [
    {
     "name": "stdout",
     "output_type": "stream",
     "text": [
      "the eps is:  0.6\n"
     ]
    }
   ],
   "source": [
    "earnings_per_share = earning/shares_outstanding\n",
    "print('the eps is: ', earnings_per_share)"
   ]
  },
  {
   "cell_type": "markdown",
   "id": "99a42b9c",
   "metadata": {},
   "source": [
    "#### Price to Earninig (P/E ratio)"
   ]
  },
  {
   "cell_type": "code",
   "execution_count": 47,
   "id": "bfe94138",
   "metadata": {},
   "outputs": [],
   "source": [
    "# share_price =1\n",
    "\n",
    "# later every one eanted to sell their share thus the new share price is\n",
    "\n",
    "share_price = 0.7"
   ]
  },
  {
   "cell_type": "code",
   "execution_count": 49,
   "id": "9558e740",
   "metadata": {},
   "outputs": [
    {
     "name": "stdout",
     "output_type": "stream",
     "text": [
      "the pe ratio is:  1.1666666666666667\n"
     ]
    }
   ],
   "source": [
    "pe_ratio = share_price / earnings_per_share\n",
    "\n",
    "print('the pe ratio is: ', pe_ratio)\n",
    "\n",
    "# as the share price goes down so does the pe ratio"
   ]
  },
  {
   "cell_type": "code",
   "execution_count": 30,
   "id": "5692b40f",
   "metadata": {},
   "outputs": [],
   "source": [
    "import numpy as np\n",
    "import matplotlib.pyplot as plt\n"
   ]
  },
  {
   "cell_type": "code",
   "execution_count": 31,
   "id": "16a978e3",
   "metadata": {},
   "outputs": [
    {
     "data": {
      "text/plain": [
       "array([0.1       , 0.14949495, 0.1989899 , 0.24848485, 0.2979798 ,\n",
       "       0.34747475, 0.3969697 , 0.44646465, 0.4959596 , 0.54545455,\n",
       "       0.59494949, 0.64444444, 0.69393939, 0.74343434, 0.79292929,\n",
       "       0.84242424, 0.89191919, 0.94141414, 0.99090909, 1.04040404,\n",
       "       1.08989899, 1.13939394, 1.18888889, 1.23838384, 1.28787879,\n",
       "       1.33737374, 1.38686869, 1.43636364, 1.48585859, 1.53535354,\n",
       "       1.58484848, 1.63434343, 1.68383838, 1.73333333, 1.78282828,\n",
       "       1.83232323, 1.88181818, 1.93131313, 1.98080808, 2.03030303,\n",
       "       2.07979798, 2.12929293, 2.17878788, 2.22828283, 2.27777778,\n",
       "       2.32727273, 2.37676768, 2.42626263, 2.47575758, 2.52525253,\n",
       "       2.57474747, 2.62424242, 2.67373737, 2.72323232, 2.77272727,\n",
       "       2.82222222, 2.87171717, 2.92121212, 2.97070707, 3.02020202,\n",
       "       3.06969697, 3.11919192, 3.16868687, 3.21818182, 3.26767677,\n",
       "       3.31717172, 3.36666667, 3.41616162, 3.46565657, 3.51515152,\n",
       "       3.56464646, 3.61414141, 3.66363636, 3.71313131, 3.76262626,\n",
       "       3.81212121, 3.86161616, 3.91111111, 3.96060606, 4.01010101,\n",
       "       4.05959596, 4.10909091, 4.15858586, 4.20808081, 4.25757576,\n",
       "       4.30707071, 4.35656566, 4.40606061, 4.45555556, 4.50505051,\n",
       "       4.55454545, 4.6040404 , 4.65353535, 4.7030303 , 4.75252525,\n",
       "       4.8020202 , 4.85151515, 4.9010101 , 4.95050505, 5.        ])"
      ]
     },
     "execution_count": 31,
     "metadata": {},
     "output_type": "execute_result"
    }
   ],
   "source": [
    "x = np.linspace(0.1,5,100)\n",
    "x"
   ]
  },
  {
   "cell_type": "code",
   "execution_count": 32,
   "id": "0b238af5",
   "metadata": {},
   "outputs": [
    {
     "data": {
      "text/plain": [
       "array([10.        ,  6.68918919,  5.02538071,  4.02439024,  3.3559322 ,\n",
       "        2.87790698,  2.51908397,  2.239819  ,  2.01629328,  1.83333333,\n",
       "        1.68081494,  1.55172414,  1.44104803,  1.3451087 ,  1.2611465 ,\n",
       "        1.18705036,  1.1211778 ,  1.06223176,  1.00917431,  0.96116505,\n",
       "        0.91751622,  0.87765957,  0.8411215 ,  0.80750408,  0.77647059,\n",
       "        0.74773414,  0.7210488 ,  0.69620253,  0.67301156,  0.65131579,\n",
       "        0.63097514,  0.6118665 ,  0.59388122,  0.57692308,  0.56090652,\n",
       "        0.54575524,  0.53140097,  0.51778243,  0.50484447,  0.49253731,\n",
       "        0.48081593,  0.46963947,  0.45897079,  0.44877607,  0.43902439,\n",
       "        0.4296875 ,  0.42073948,  0.41215654,  0.40391677,  0.396     ,\n",
       "        0.3883876 ,  0.38106236,  0.37400831,  0.36721068,  0.36065574,\n",
       "        0.35433071,  0.34822371,  0.34232365,  0.3366202 ,  0.33110368,\n",
       "        0.32576505,  0.32059585,  0.31558814,  0.31073446,  0.30602782,\n",
       "        0.30146163,  0.2970297 ,  0.2927262 ,  0.28854561,  0.28448276,\n",
       "        0.28053273,  0.27669089,  0.27295285,  0.26931447,  0.26577181,\n",
       "        0.26232114,  0.25895893,  0.25568182,  0.25248661,  0.24937028,\n",
       "        0.24632993,  0.24336283,  0.24046636,  0.23763802,  0.23487544,\n",
       "        0.23217636,  0.2295386 ,  0.22696011,  0.2244389 ,  0.22197309,\n",
       "        0.21956088,  0.21720053,  0.21489038,  0.21262887,  0.21041445,\n",
       "        0.20824569,  0.20612117,  0.20403957,  0.20199959,  0.2       ])"
      ]
     },
     "execution_count": 32,
     "metadata": {},
     "output_type": "execute_result"
    }
   ],
   "source": [
    "# to demonstrate how eps affect the pe ratio\n",
    "# higher the eps, lower the pe_ratio\n",
    "# and lower the pe ratio, higher is the \n",
    "y = share_price/x\n",
    "y"
   ]
  },
  {
   "cell_type": "code",
   "execution_count": 33,
   "id": "2fed1dea",
   "metadata": {},
   "outputs": [
    {
     "data": {
      "image/png": "[encoded data removed]",
      "text/plain": [
       "<Figure size 432x288 with 1 Axes>"
      ]
     },
     "metadata": {
      "needs_background": "light"
     },
     "output_type": "display_data"
    }
   ],
   "source": [
    "plt.plot(x,y)\n",
    "plt.xlabel('earnings per share')\n",
    "plt.ylabel('pe ratio')\n",
    "plt.title(' eps vs pe ratio')\n",
    "plt.show()"
   ]
  },
  {
   "cell_type": "code",
   "execution_count": 56,
   "id": "6302c47c",
   "metadata": {},
   "outputs": [
    {
     "data": {
      "image/png": "[encoded data removed]",
      "text/plain": [
       "<Figure size 432x288 with 1 Axes>"
      ]
     },
     "metadata": {
      "needs_background": "light"
     },
     "output_type": "display_data"
    }
   ],
   "source": [
    "plt.plot(x,y)\n",
    "plt.xlabel('earnings per share')\n",
    "plt.ylabel('pe ratio')\n",
    "plt.title(' eps vs pe ratio')\n",
    "plt.show()"
   ]
  },
  {
   "cell_type": "code",
   "execution_count": 34,
   "id": "62e934f1",
   "metadata": {},
   "outputs": [],
   "source": [
    "# the more you earn, the lower the P/E ratio is\n",
    "\n",
    "# for every pe ratio i spend, I can expect a $1 earning a year\n",
    "# i.e if a kid invested 1.67 dollars in my lemonade stand, he/she will get 1 dollar profit after a year"
   ]
  },
  {
   "cell_type": "markdown",
   "id": "13410e89",
   "metadata": {},
   "source": [
    "### volume"
   ]
  },
  {
   "cell_type": "code",
   "execution_count": 35,
   "id": "94131d0a",
   "metadata": {},
   "outputs": [],
   "source": [
    "volume = 100"
   ]
  },
  {
   "cell_type": "code",
   "execution_count": 36,
   "id": "6577fbce",
   "metadata": {},
   "outputs": [],
   "source": [
    "divident_paid_annual = 600\n",
    "divident_rate = divident_paid_annual/shares_outstanding"
   ]
  },
  {
   "cell_type": "code",
   "execution_count": 37,
   "id": "ad9ed8b4",
   "metadata": {},
   "outputs": [
    {
     "data": {
      "text/plain": [
       "0.6"
      ]
     },
     "execution_count": 37,
     "metadata": {},
     "output_type": "execute_result"
    }
   ],
   "source": [
    "divident_rate"
   ]
  },
  {
   "cell_type": "code",
   "execution_count": 38,
   "id": "b8f5a926",
   "metadata": {},
   "outputs": [],
   "source": [
    "# in reality there is a difference between eps and divident rate because you do not pay 1005 of your earnings as divident"
   ]
  },
  {
   "cell_type": "markdown",
   "id": "f7bd62b0",
   "metadata": {},
   "source": [
    "#### Yield"
   ]
  },
  {
   "cell_type": "code",
   "execution_count": 51,
   "id": "1b585f42",
   "metadata": {},
   "outputs": [],
   "source": [
    "yield_rate = divident_rate/share_price"
   ]
  },
  {
   "cell_type": "code",
   "execution_count": 52,
   "id": "186eb225",
   "metadata": {},
   "outputs": [
    {
     "data": {
      "text/plain": [
       "0.8571428571428572"
      ]
     },
     "execution_count": 52,
     "metadata": {},
     "output_type": "execute_result"
    }
   ],
   "source": [
    "yield_rate # 0.6 when share price is 1\n",
    "\n",
    "# now it is 0.85"
   ]
  },
  {
   "cell_type": "code",
   "execution_count": 41,
   "id": "f2251271",
   "metadata": {},
   "outputs": [],
   "source": [
    "# how much divident do you get per share price"
   ]
  },
  {
   "cell_type": "code",
   "execution_count": 54,
   "id": "6267b6df",
   "metadata": {},
   "outputs": [],
   "source": [
    "# the yield_rate is increasing when the share price goes down\n",
    "# so your profit (of the owner) is going up"
   ]
  },
  {
   "cell_type": "code",
   "execution_count": null,
   "id": "19c1e09f",
   "metadata": {},
   "outputs": [],
   "source": []
  }
 ],
 "metadata": {
  "kernelspec": {
   "display_name": "Python 3",
   "language": "python",
   "name": "python3"
  },
  "language_info": {
   "codemirror_mode": {
    "name": "ipython",
    "version": 3
   },
   "file_extension": ".py",
   "mimetype": "text/x-python",
   "name": "python",
   "nbconvert_exporter": "python",
   "pygments_lexer": "ipython3",
   "version": "3.7.10"
  }
 },
 "nbformat": 4,
 "nbformat_minor": 5
}
